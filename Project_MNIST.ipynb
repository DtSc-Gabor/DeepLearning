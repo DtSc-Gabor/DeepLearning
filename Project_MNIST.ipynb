{
 "cells": [
  {
   "cell_type": "markdown",
   "id": "7ae42490",
   "metadata": {},
   "source": [
    "<div style=\"background: darkblue; color: white; border-radius: 25px\">\n",
    "    <p style=\"font-size: 25px; text-align: center; padding: 20px;\">\n",
    "        <b style=\"text-shadow: 0 0.15rem 0.25rem orange;\">Classifying on the MNIST dataset</b>\n",
    "    </p>\n",
    "    <div class=\"container\" style=\"width: 100%; display: flex; flex-direction: column; align-items: center; justify-content: center; padding: 2rem;\">\n",
    "        <div style=\"max-width: 55%; text-align: justify; font-size: 1.75rem; padding: 2rem\">\n",
    "            <p>The dataset is called MNIST <br>and refers to handwritten digits recognition.<br><br>The dataset provides 70,000 images (28x28 pixels) of handwritten digits (0-9).</p>\n",
    "            <ul style=\" list-style-type: none;font-size: 1.55rem; margin-right: 1.5rem\">\n",
    "            <b><u style=\"text-shadow: 0 0.15rem 0.25rem orange;font-size: 1.75rem;\">\n",
    "                The goal is to write an algorithm that detects which digit is written.</u></b><br><br>  \n",
    "        <li>Since there are only 10 digits (0-9), \n",
    "            <br><u style=\"text-shadow: 0 0.15rem 0.25rem orange;\n",
    "                font-size: 1.55rem;\">this is a classification problem with 10 classes.</u> </li><br>\n",
    "        <li>By leveraging the power of <i style=\"color:orange; font-size: 20px\">TensorFlow 2.0</i> this project aims to create a Convolutional Neural Network (CNN) which will solve the MNIST classification problem</li></ul>\n",
    "        </div>\n",
    "        <div>\n",
    "            <img src='images/mnist.jpg' style=\"height: 100%; padding: 2rem\">\n",
    "        </div>\n",
    "    </div>\n",
    "    <div style=\" width: 80%; height: 1px; background: white; margin-left: 10rem; \n",
    "                box-shadow: 0 0 1.85rem yellow, 0 0 1.55rem orange\"></div> <!-- GLOWING DIVIDER  -->\n",
    "    <div class=\"container\" style=\"width: 100%; display: inline-flex; flex-direction: column; \n",
    "                align-content: center; align-items: center; justify-content: center; padding: 2rem\">\n",
    "        <div style=\"width: 60%; margin-top: 6rem\">\n",
    "            <p style=\"text-align: justify; font-size: 1.55rem; padding: 2rem\">\n",
    "                <u style=\"text-shadow: 0 0.15rem 0.25rem orange;font-size: 1.75rem;\">Deep Neural Networks (Deep Nets):</u><br><br>\n",
    "                Deep Neural Networks, often referred to as deep nets, are a class of artificial neural networks that consist of multiple layers. These layers include an input layer, one or more hidden layers, and an output layer. The \"deep\" in deep nets signifies the inclusion of multiple hidden layers, which allows these networks to learn intricate patterns and representations from complex data. Each layer in a deep net performs a set of mathematical operations to transform the input data and extract progressively more abstract features.<br><br>\n",
    "                <u style=\"text-shadow: 0 0.15rem 0.25rem orange;font-size: 1.75rem;\">Convolutional Neural Networks (CNNs):</u><br><br>\n",
    "                Convolutional Neural Networks (CNNs) are a specialized type of deep neural network designed primarily for processing grid-like data, such as images and videos. CNNs are particularly effective for tasks like image classification, object detection, and image segmentation. The key innovation in CNNs is the use of convolutional layers, which apply filters or kernels to input data, enabling the network to automatically learn hierarchical features from the data.\n",
    "            </p>\n",
    "        </div>\n",
    "        <div style=\" flex-direction:row\">\n",
    "             <div>\n",
    "            <img src='images/mnist_deep_net.jpg' style=\"height: 35rem; padding: 2rem;\">\n",
    "        </div>\n",
    "        <div style=\"background: darkblue; color: white; display: flex; justify-content: center; align-items: center; padding: 1rem; width: 100%; height: 44%; border-radius: 20px; text-shadow: 0 0.15rem 0.25rem darkblue\">\n",
    "    <ul style=\"background: white; color: darkblue; padding: 1rem; text-align: center; list-style-type: none; border-radius: 20px\">\n",
    "        <b style=\"font-size: 2.5rem; color: orange\">The MNIST action plan:</b><br>\n",
    "        <li style=\"background: darkblue; color: white; text-align: left; padding-left: 2rem; \n",
    "                   padding-top:1rem; border-top-right-radius: 20px; border-top-left-radius: 20px; margin-top:0.5rem\"><b><i style=\"color: orange\">1.)</i> Prepare our data and preprocess it. <br>&nbsp;&nbsp;&nbsp;&nbsp;&nbsp;&nbsp;Create training, validation, and test datasets.</b></li>\n",
    "        <li style=\"background: darkblue; color: white; text-align: left; padding-left: 2rem\"><b><i style=\"color: orange\">2.)</i> Outline the model, and choose the activation functions.</b></li>\n",
    "        <li style=\"background: darkblue; color: white; text-align: left; padding-left: 2rem\"><b><i style=\"color: orange\">3.)</i> Set the appropriate advanced optimizers <br> &nbsp;&nbsp;&nbsp;&nbsp;&nbsp;&nbsp;and the loss function.</b></li>\n",
    "        <li style=\"background: darkblue; color: white; text-align: left; padding-left: 2rem\"><b><i style=\"color: orange\">4.)</i> Make it learn. \n",
    "            <i style=\"font-size: 1.3rem\n",
    "                      \"><br>&nbsp;&nbsp;&nbsp;&nbsp;&nbsp;&nbsp;[The algorithm will back propagate its way to accuracy, &nbsp;&nbsp;&nbsp;&nbsp;&nbsp;&nbsp;validating at each epoch.]</i></b></li>\n",
    "        <li style=\"background: darkblue; color: white; text-align: left; padding-left: 2rem; \n",
    "                   padding-bottom:1rem; border-bottom-right-radius: 20px; border-bottom-left-radius: 20px\"><b><i style=\"color: orange\">5.)</i> Test the accuracy of the model.</b></li>\n",
    "        </ul></div>\n",
    "       \n",
    "        \n",
    "</div>\n",
    "        \n",
    "</div>\n",
    "    <div style=\" width: 80%; height: 1px; background: white; margin-left: 10rem; \n",
    "                box-shadow: 0 0 1.85rem yellow, 0 0 1.55rem orange\"></div> <!-- GLOWING DIVIDER  -->\n",
    "    <div style=\"background: orange; margin: 4rem; border-radius: 25% 2.5%; \n",
    "                position: relative\">\n",
    "    <p style=\"font-size: 1.55rem; color: darkblue; padding: 4rem; text-align: justify;\n",
    "              text-shadow: 0 0 0.7rem yellow, 0 0 0.3rem orange\">\n",
    "       <br> In the process of developing a Convolutional Neural Network (CNN) for the classification of MNIST handwritten digits, I'm delving into the foundational concept of tensors. Tensors, which are multi-dimensional arrays, serve as the building blocks for representing data, weights, and computations within neural networks. <br><br>The focus lies on the renowned MNIST dataset, a collection of grayscale images depicting digits 0 to 9. This dataset is a cornerstone in the field of machine learning, often employed to assess algorithm performance. <br><br>Facilitating this endeavor is TensorFlow 2.0, a cutting-edge open-source deep learning framework. Its user-friendly interfaces streamline the creation of complex models, including CNNs, by offering high-level APIs and features like automatic differentiation. TensorFlow 2.0's role in this project highlights its significance as a preferred tool for researchers and developers aiming to achieve image classification excellence.</p>\n",
    "    <div style=\" width: 12.5px; height: 12.5px; background: darkblue; border-radius: 50%; \n",
    "        position: absolute; bottom: 1.55rem;left: 1.55rem;\n",
    "                box-shadow: 0 0 0.7rem yellow\"></div> <!--le dots-->\n",
    "    <div style=\" width: 12.5px; height: 12.5px; background: darkblue; border-radius: 50%; \n",
    "        position: absolute; top: 1.55rem;right: 1.55rem;\n",
    "                box-shadow: 0 0 0.7rem yellow\"></div> <!--le dots-->\n",
    "    </div>\n",
    "    <div style=\" width: 80%; height: 1px; background: white; margin-left: 10rem; \n",
    "                box-shadow: 0 0 1.85rem yellow, 0 0 1.55rem orange\"></div><br> <!-- GLOWING DIVIDER  -->\n",
    "</div>\n",
    "\n"
   ]
  },
  {
   "cell_type": "markdown",
   "id": "3e1d2484",
   "metadata": {},
   "source": [
    "## Table of Contents <a id=\"contents\"></a>\n",
    "- [1. Acquire Data](#1)\n",
    "    - [1.2. Info about the dataset](#1.2)\n",
    "- [2. Feature engineering - Scaling with Custom Function](#2)\n",
    "- [3. Shuffling, Creating Validation & Train datasets, and Batching](#3)\n",
    "- [4. Baseline Model](#4)\n",
    "    - [4.1. Outlining the model](#4.1)\n",
    "    - [4.2. Choosing the optimizer and the loss function](#4.2)\n",
    "    - [4.3. Training](#4.3)\n",
    "    - [4.4. Testing the base_model](#4.4)\n",
    "- [5. Final model](#5)\n",
    "    - [5.1. Outlining the model](#5.1)\n",
    "    - [5.2. Choosing a customized optimizer and the loss function](#5.2)\n",
    "    - [5.3. Training and Visualizing training history](#5.3)\n",
    "    - [5.4. Testing the final_model](#5.4)\n",
    "- [6. Visualizing and Predicting on test_data](#6)\n"
   ]
  },
  {
   "cell_type": "markdown",
   "id": "01296c79",
   "metadata": {},
   "source": [
    "### Import relevant libraries"
   ]
  },
  {
   "cell_type": "code",
   "execution_count": 1,
   "id": "179ca798",
   "metadata": {},
   "outputs": [],
   "source": [
    "import numpy as np\n",
    "import tensorflow as tf\n",
    "import matplotlib.pyplot as plt\n",
    "\n",
    "# data source\n",
    "import tensorflow_datasets as tfds"
   ]
  },
  {
   "cell_type": "markdown",
   "id": "91fb4d08",
   "metadata": {},
   "source": [
    "## 1. Acquire Data <a id=\"1\"></a>"
   ]
  },
  {
   "cell_type": "code",
   "execution_count": 2,
   "id": "b2c0ad09",
   "metadata": {},
   "outputs": [],
   "source": [
    "#there are built in references that help extract-->\n",
    "mnist_dataset, mnist_info = tfds.load(name='mnist', with_info=True, as_supervised=True)\n",
    "#--> the Train and the Test data.\n",
    "mnist_Train, mnist_Test = mnist_dataset['train'], mnist_dataset['test']\n",
    "\n",
    "#by default MNIST dataset has no Validation set\n",
    "num_validation_samples = 0.1 * mnist_info.splits['train'].num_examples #6,000\n",
    "num_validation_samples = tf.cast(num_validation_samples, tf.int64) #to get sample number as a whole number\n",
    "\n",
    "\n",
    "num_test_samples = mnist_info.splits['test'].num_examples #10,000\n",
    "num_test_samples = tf.cast(num_test_samples, tf.int64)#to get sample number as a whole number"
   ]
  },
  {
   "cell_type": "markdown",
   "id": "4aed885b",
   "metadata": {},
   "source": [
    "<div style=\"background: darkblue; border-radius: 45% 2.5%; display: flex; margin-left: 60%; \n",
    "            width: 40%; position: relative\">\n",
    "    <a href=\"#contents\" style=\"margin-left: 20%;\">\n",
    "        <div style=\"background: orange; border-radius: 35% 2.5%; \n",
    "                width: 100%; margin-top: 1rem; margin-bottom: 1rem; \n",
    "                padding-left: 5rem; padding-right: 5rem;\">\n",
    "            <p style=\"color: dark_blue; padding-top: 1rem;padding-bottom: 1rem; \n",
    "                  text-align: center; font-size: 1.75rem\"> <b>Back to Contents</b></p>\n",
    "        </div>\n",
    "    </a>\n",
    "    <div style=\" width: 12.5px; height: 12.5px; background: orange; border-radius: 50%; \n",
    "        position: absolute; bottom: 1.55rem;left: 1.55rem;\n",
    "                box-shadow: 0 0 0.7rem yellow\"></div> <!--le dots-->\n",
    "    <div style=\" width: 12.5px; height: 12.5px; background: orange; border-radius: 50%; \n",
    "        position: absolute; top: 1.55rem;right: 1.55rem;\n",
    "                box-shadow: 0 0 0.7rem yellow\"></div> <!--le dots-->\n",
    "    </div>\n",
    "   "
   ]
  },
  {
   "cell_type": "markdown",
   "id": "73cf1aff",
   "metadata": {},
   "source": [
    "### 1.2. Info about the dataset <a id=\"1.2\"></a>"
   ]
  },
  {
   "cell_type": "code",
   "execution_count": 3,
   "id": "dcc18915",
   "metadata": {
    "scrolled": false
   },
   "outputs": [
    {
     "data": {
      "text/plain": [
       "tfds.core.DatasetInfo(\n",
       "    name='mnist',\n",
       "    full_name='mnist/3.0.1',\n",
       "    description=\"\"\"\n",
       "    The MNIST database of handwritten digits.\n",
       "    \"\"\",\n",
       "    homepage='http://yann.lecun.com/exdb/mnist/',\n",
       "    data_path='C:\\\\Users\\\\MSI GF63\\\\tensorflow_datasets\\\\mnist\\\\3.0.1',\n",
       "    file_format=tfrecord,\n",
       "    download_size=11.06 MiB,\n",
       "    dataset_size=21.00 MiB,\n",
       "    features=FeaturesDict({\n",
       "        'image': Image(shape=(28, 28, 1), dtype=uint8),\n",
       "        'label': ClassLabel(shape=(), dtype=int64, num_classes=10),\n",
       "    }),\n",
       "    supervised_keys=('image', 'label'),\n",
       "    disable_shuffling=False,\n",
       "    splits={\n",
       "        'test': <SplitInfo num_examples=10000, num_shards=1>,\n",
       "        'train': <SplitInfo num_examples=60000, num_shards=1>,\n",
       "    },\n",
       "    citation=\"\"\"@article{lecun2010mnist,\n",
       "      title={MNIST handwritten digit database},\n",
       "      author={LeCun, Yann and Cortes, Corinna and Burges, CJ},\n",
       "      journal={ATT Labs [Online]. Available: http://yann.lecun.com/exdb/mnist},\n",
       "      volume={2},\n",
       "      year={2010}\n",
       "    }\"\"\",\n",
       ")"
      ]
     },
     "metadata": {},
     "output_type": "display_data"
    },
    {
     "name": "stdout",
     "output_type": "stream",
     "text": [
      "mnist_Train:\n",
      " <PrefetchDataset element_spec=(TensorSpec(shape=(28, 28, 1), dtype=tf.uint8, name=None), TensorSpec(shape=(), dtype=tf.int64, name=None))>\n"
     ]
    }
   ],
   "source": [
    "display(mnist_info)\n",
    "print(\"mnist_Train:\\n\" ,mnist_Train)"
   ]
  },
  {
   "cell_type": "markdown",
   "id": "b0d7848e",
   "metadata": {},
   "source": [
    "<div style=\"background: darkblue; border-radius: 45% 2.5%; display: flex; margin-left: 60%; \n",
    "            width: 40%; position: relative\">\n",
    "    <a href=\"#contents\" style=\"margin-left: 20%;\">\n",
    "        <div style=\"background: orange; border-radius: 35% 2.5%; \n",
    "                width: 100%; margin-top: 1rem; margin-bottom: 1rem; \n",
    "                padding-left: 5rem; padding-right: 5rem;\">\n",
    "            <p style=\"color: dark_blue; padding-top: 1rem;padding-bottom: 1rem; \n",
    "                  text-align: center; font-size: 1.75rem\"> <b>Back to Contents</b></p>\n",
    "        </div>\n",
    "    </a>\n",
    "    <div style=\" width: 12.5px; height: 12.5px; background: orange; border-radius: 50%; \n",
    "        position: absolute; bottom: 1.55rem;left: 1.55rem;\n",
    "                box-shadow: 0 0 0.7rem yellow\"></div> <!--le dots-->\n",
    "    <div style=\" width: 12.5px; height: 12.5px; background: orange; border-radius: 50%; \n",
    "        position: absolute; top: 1.55rem;right: 1.55rem;\n",
    "                box-shadow: 0 0 0.7rem yellow\"></div> <!--le dots-->\n",
    "    </div>\n",
    "   "
   ]
  },
  {
   "cell_type": "markdown",
   "id": "05ad61a1",
   "metadata": {},
   "source": [
    "## 2. Feature engineering - Scaling with Custom Function  <a id=\"2\"></a>"
   ]
  },
  {
   "cell_type": "markdown",
   "id": "7a967889",
   "metadata": {},
   "source": [
    "Normally, it's good practice to scale the data in some way, to make the result more numerically stable (e.g. inputs between 0 and 1) "
   ]
  },
  {
   "cell_type": "markdown",
   "id": "a37e5935",
   "metadata": {},
   "source": [
    "Considering the MNIST dataset, there are 784 inputs (each pixel 28x28) and each value is between 0-255 (single grayscale)"
   ]
  },
  {
   "cell_type": "code",
   "execution_count": 4,
   "id": "152896e9",
   "metadata": {
    "scrolled": true
   },
   "outputs": [],
   "source": [
    "def scale_mnist (image, label): #from mnist_info\n",
    "    image = tf.cast(image, tf.float32)\n",
    "    image /= 255. # alter values to be in [0, 1] \n",
    "    return image, label"
   ]
  },
  {
   "cell_type": "markdown",
   "id": "9c060492",
   "metadata": {},
   "source": [
    "##### - applying custom scaling function on datasets"
   ]
  },
  {
   "cell_type": "code",
   "execution_count": 5,
   "id": "9bf753a4",
   "metadata": {},
   "outputs": [],
   "source": [
    "# still not splitted, but have num_validation_samples prepared\n",
    "scaled_Train_and_Validation_data = mnist_Train.map(scale_mnist)\n",
    "\n",
    "# there is no need to shuffle it, because we won't be training on the test data\n",
    "# there would be a single batch, equal to the size of the test data\n",
    "scaled_Test_data = mnist_Test.map(scale_mnist)\n"
   ]
  },
  {
   "cell_type": "markdown",
   "id": "6f57ba61",
   "metadata": {},
   "source": [
    "<div style=\"background: darkblue; border-radius: 45% 2.5%; display: flex; margin-left: 60%; \n",
    "            width: 40%; position: relative\">\n",
    "    <a href=\"#contents\" style=\"margin-left: 20%;\">\n",
    "        <div style=\"background: orange; border-radius: 35% 2.5%; \n",
    "                width: 100%; margin-top: 1rem; margin-bottom: 1rem; \n",
    "                padding-left: 5rem; padding-right: 5rem;\">\n",
    "            <p style=\"color: dark_blue; padding-top: 1rem;padding-bottom: 1rem; \n",
    "                  text-align: center; font-size: 1.75rem\"> <b>Back to Contents</b></p>\n",
    "        </div>\n",
    "    </a>\n",
    "    <div style=\" width: 12.5px; height: 12.5px; background: orange; border-radius: 50%; \n",
    "        position: absolute; bottom: 1.55rem;left: 1.55rem;\n",
    "                box-shadow: 0 0 0.7rem yellow\"></div> <!--le dots-->\n",
    "    <div style=\" width: 12.5px; height: 12.5px; background: orange; border-radius: 50%; \n",
    "        position: absolute; top: 1.55rem;right: 1.55rem;\n",
    "                box-shadow: 0 0 0.7rem yellow\"></div> <!--le dots-->\n",
    "    </div>\n",
    "   "
   ]
  },
  {
   "cell_type": "markdown",
   "id": "0e4e070e",
   "metadata": {},
   "source": [
    "### 3. Shuffling, Creating Validation & Train datasets, and Batching <a id=\"3\"></a>"
   ]
  },
  {
   "cell_type": "code",
   "execution_count": 6,
   "id": "ef4ba216",
   "metadata": {},
   "outputs": [],
   "source": [
    "BUFFER_SIZE = 10000\n",
    "\n",
    "#shuffle\n",
    "shuf_n_scal_Train_and_Validation_data = scaled_Train_and_Validation_data.shuffle(BUFFER_SIZE)\n",
    "\n",
    "# \"Split\" Train- and Validation datasets\n",
    "#.take()\n",
    "validation_data = shuf_n_scal_Train_and_Validation_data.take(num_validation_samples)\n",
    "#.skip()\n",
    "train_data = shuf_n_scal_Train_and_Validation_data.skip(num_validation_samples)\n"
   ]
  },
  {
   "cell_type": "markdown",
   "id": "9a9b4629",
   "metadata": {},
   "source": [
    "to be able to iterate over different batches"
   ]
  },
  {
   "cell_type": "code",
   "execution_count": 7,
   "id": "f663fa19",
   "metadata": {},
   "outputs": [],
   "source": [
    "BATCH_SIZE = 100\n",
    "\n",
    "train_data = train_data.batch(BATCH_SIZE)\n",
    "\n",
    "validation_data = validation_data.batch(num_validation_samples)\n",
    "\n",
    "# batch the test data\n",
    "test_data = scaled_Test_data.batch(num_test_samples)\n",
    "\n",
    "# because as_supervized=True, I've got a 2-tuple structure\n",
    "validation_inputs, validation_targets = next(iter(validation_data))"
   ]
  },
  {
   "cell_type": "markdown",
   "id": "8a78d78d",
   "metadata": {},
   "source": [
    "<div style=\"background: darkblue; border-radius: 45% 2.5%; display: flex; margin-left: 60%; \n",
    "            width: 40%; position: relative\">\n",
    "    <a href=\"#contents\" style=\"margin-left: 20%;\">\n",
    "        <div style=\"background: orange; border-radius: 35% 2.5%; \n",
    "                width: 100%; margin-top: 1rem; margin-bottom: 1rem; \n",
    "                padding-left: 5rem; padding-right: 5rem;\">\n",
    "            <p style=\"color: dark_blue; padding-top: 1rem;padding-bottom: 1rem; \n",
    "                  text-align: center; font-size: 1.75rem\"> <b>Back to Contents</b></p>\n",
    "        </div>\n",
    "    </a>\n",
    "    <div style=\" width: 12.5px; height: 12.5px; background: orange; border-radius: 50%; \n",
    "        position: absolute; bottom: 1.55rem;left: 1.55rem;\n",
    "                box-shadow: 0 0 0.7rem yellow\"></div> <!--le dots-->\n",
    "    <div style=\" width: 12.5px; height: 12.5px; background: orange; border-radius: 50%; \n",
    "        position: absolute; top: 1.55rem;right: 1.55rem;\n",
    "                box-shadow: 0 0 0.7rem yellow\"></div> <!--le dots-->\n",
    "    </div>\n",
    "   "
   ]
  },
  {
   "cell_type": "markdown",
   "id": "dbea24ff",
   "metadata": {},
   "source": [
    "## 4. Baseline Model <a id=\"4\"></a>"
   ]
  },
  {
   "cell_type": "markdown",
   "id": "c459db9d",
   "metadata": {},
   "source": [
    "### 4.1. Outlining the model <a id=\"4.1\"></a>"
   ]
  },
  {
   "cell_type": "code",
   "execution_count": 8,
   "id": "6141f779",
   "metadata": {},
   "outputs": [],
   "source": [
    "input_size = 784 # 28 x 28 #fix\n",
    "output_size = 10 # [0-9] #fix\n",
    "base_hidden_layer_size = 100 # for a start, need to alter"
   ]
  },
  {
   "cell_type": "code",
   "execution_count": 9,
   "id": "4b3db192",
   "metadata": {},
   "outputs": [],
   "source": [
    "base_model = tf.keras.Sequential([\n",
    "                            tf.keras.layers.Flatten(input_shape=(28,28,1)),\n",
    "                            tf.keras.layers.Dense(base_hidden_layer_size, activation='relu'),\n",
    "                            tf.keras.layers.Dense(base_hidden_layer_size, activation='relu'),\n",
    "                            tf.keras.layers.Dense(output_size, activation='softmax'),\n",
    "])"
   ]
  },
  {
   "cell_type": "markdown",
   "id": "95bd95cf",
   "metadata": {},
   "source": [
    "<div style=\"background: darkblue; border-radius: 45% 2.5%; display: flex; margin-left: 60%; \n",
    "            width: 40%; position: relative\">\n",
    "    <a href=\"#contents\" style=\"margin-left: 20%;\">\n",
    "        <div style=\"background: orange; border-radius: 35% 2.5%; \n",
    "                width: 100%; margin-top: 1rem; margin-bottom: 1rem; \n",
    "                padding-left: 5rem; padding-right: 5rem;\">\n",
    "            <p style=\"color: dark_blue; padding-top: 1rem;padding-bottom: 1rem; \n",
    "                  text-align: center; font-size: 1.75rem\"> <b>Back to Contents</b></p>\n",
    "        </div>\n",
    "    </a>\n",
    "    <div style=\" width: 12.5px; height: 12.5px; background: orange; border-radius: 50%; \n",
    "        position: absolute; bottom: 1.55rem;left: 1.55rem;\n",
    "                box-shadow: 0 0 0.7rem yellow\"></div> <!--le dots-->\n",
    "    <div style=\" width: 12.5px; height: 12.5px; background: orange; border-radius: 50%; \n",
    "        position: absolute; top: 1.55rem;right: 1.55rem;\n",
    "                box-shadow: 0 0 0.7rem yellow\"></div> <!--le dots-->\n",
    "    </div>\n",
    "   "
   ]
  },
  {
   "cell_type": "markdown",
   "id": "85f4f730",
   "metadata": {},
   "source": [
    "### 4.2. Choosing the optimizer and the loss function <a id=\"4.2\"></a>"
   ]
  },
  {
   "cell_type": "code",
   "execution_count": 10,
   "id": "95732927",
   "metadata": {},
   "outputs": [],
   "source": [
    "base_model.compile(\n",
    "                    optimizer='adam', \n",
    "                    loss='sparse_categorical_crossentropy', \n",
    "                    metrics =['accuracy']\n",
    ")"
   ]
  },
  {
   "cell_type": "markdown",
   "id": "57256502",
   "metadata": {},
   "source": [
    "<div style=\"background: darkblue; border-radius: 45% 2.5%; display: flex; margin-left: 60%; \n",
    "            width: 40%; position: relative\">\n",
    "    <a href=\"#contents\" style=\"margin-left: 20%;\">\n",
    "        <div style=\"background: orange; border-radius: 35% 2.5%; \n",
    "                width: 100%; margin-top: 1rem; margin-bottom: 1rem; \n",
    "                padding-left: 5rem; padding-right: 5rem;\">\n",
    "            <p style=\"color: dark_blue; padding-top: 1rem;padding-bottom: 1rem; \n",
    "                  text-align: center; font-size: 1.75rem\"> <b>Back to Contents</b></p>\n",
    "        </div>\n",
    "    </a>\n",
    "    <div style=\" width: 12.5px; height: 12.5px; background: orange; border-radius: 50%; \n",
    "        position: absolute; bottom: 1.55rem;left: 1.55rem;\n",
    "                box-shadow: 0 0 0.7rem yellow\"></div> <!--le dots-->\n",
    "    <div style=\" width: 12.5px; height: 12.5px; background: orange; border-radius: 50%; \n",
    "        position: absolute; top: 1.55rem;right: 1.55rem;\n",
    "                box-shadow: 0 0 0.7rem yellow\"></div> <!--le dots-->\n",
    "    </div>\n",
    "   "
   ]
  },
  {
   "cell_type": "markdown",
   "id": "e7d672b3",
   "metadata": {},
   "source": [
    "## 4.3. Training <a id=\"4.3\"></a>"
   ]
  },
  {
   "cell_type": "code",
   "execution_count": 11,
   "id": "84d568da",
   "metadata": {},
   "outputs": [],
   "source": [
    "NUM_EPOCH = 5"
   ]
  },
  {
   "cell_type": "code",
   "execution_count": 12,
   "id": "2d77c2bf",
   "metadata": {
    "scrolled": true
   },
   "outputs": [
    {
     "name": "stdout",
     "output_type": "stream",
     "text": [
      "Epoch 1/5\n",
      "540/540 - 2s - loss: 0.3346 - accuracy: 0.9051 - val_loss: 0.1703 - val_accuracy: 0.9517 - 2s/epoch - 4ms/step\n",
      "Epoch 2/5\n",
      "540/540 - 1s - loss: 0.1405 - accuracy: 0.9578 - val_loss: 0.1219 - val_accuracy: 0.9622 - 1s/epoch - 2ms/step\n",
      "Epoch 3/5\n",
      "540/540 - 1s - loss: 0.0968 - accuracy: 0.9714 - val_loss: 0.0942 - val_accuracy: 0.9717 - 1s/epoch - 2ms/step\n",
      "Epoch 4/5\n",
      "540/540 - 1s - loss: 0.0751 - accuracy: 0.9779 - val_loss: 0.0843 - val_accuracy: 0.9730 - 1s/epoch - 2ms/step\n",
      "Epoch 5/5\n",
      "540/540 - 1s - loss: 0.0604 - accuracy: 0.9815 - val_loss: 0.0742 - val_accuracy: 0.9772 - 1s/epoch - 2ms/step\n"
     ]
    },
    {
     "data": {
      "text/plain": [
       "<keras.callbacks.History at 0x1c3c1d47f70>"
      ]
     },
     "execution_count": 12,
     "metadata": {},
     "output_type": "execute_result"
    }
   ],
   "source": [
    "base_model.fit(train_data,epochs = NUM_EPOCH,validation_data = (validation_inputs, validation_targets), verbose=2)"
   ]
  },
  {
   "cell_type": "markdown",
   "id": "184c1f00",
   "metadata": {},
   "source": [
    "#### The validation accuracy appears satisfactory, although there is room for improvement in this model's performance."
   ]
  },
  {
   "cell_type": "markdown",
   "id": "e520addc",
   "metadata": {},
   "source": [
    "## 4.4. Testing the base_model <a id=\"4.4\"></a>"
   ]
  },
  {
   "cell_type": "code",
   "execution_count": 13,
   "id": "98c1d99b",
   "metadata": {
    "scrolled": true
   },
   "outputs": [
    {
     "name": "stdout",
     "output_type": "stream",
     "text": [
      "1/1 [==============================] - 0s 190ms/step - loss: 0.0935 - accuracy: 0.9692\n",
      "The accuracy of the baseline model after introducing the test set:  96.92%\n"
     ]
    }
   ],
   "source": [
    "print(\"The accuracy of the baseline model \"\n",
    "      +\"after introducing the test set: {0: .2f}%\".format(\n",
    "      base_model.evaluate(test_data)[1]*100)\n",
    "     )"
   ]
  },
  {
   "cell_type": "markdown",
   "id": "e74cac13",
   "metadata": {},
   "source": [
    "<div style=\"background: darkblue; border-radius: 45% 2.5%; display: flex; margin-left: 60%; \n",
    "            width: 40%; position: relative\">\n",
    "    <a href=\"#contents\" style=\"margin-left: 20%;\">\n",
    "        <div style=\"background: orange; border-radius: 35% 2.5%; \n",
    "                width: 100%; margin-top: 1rem; margin-bottom: 1rem; \n",
    "                padding-left: 5rem; padding-right: 5rem;\">\n",
    "            <p style=\"color: dark_blue; padding-top: 1rem;padding-bottom: 1rem; \n",
    "                  text-align: center; font-size: 1.75rem\"> <b>Back to Contents</b></p>\n",
    "        </div>\n",
    "    </a>\n",
    "    <div style=\" width: 12.5px; height: 12.5px; background: orange; border-radius: 50%; \n",
    "        position: absolute; bottom: 1.55rem;left: 1.55rem;\n",
    "                box-shadow: 0 0 0.7rem yellow\"></div> <!--le dots-->\n",
    "    <div style=\" width: 12.5px; height: 12.5px; background: orange; border-radius: 50%; \n",
    "        position: absolute; top: 1.55rem;right: 1.55rem;\n",
    "                box-shadow: 0 0 0.7rem yellow\"></div> <!--le dots-->\n",
    "    </div>\n",
    "   "
   ]
  },
  {
   "cell_type": "markdown",
   "id": "1c2a3383",
   "metadata": {},
   "source": [
    "## 5. Final model <a id=\"5\"></a>"
   ]
  },
  {
   "cell_type": "markdown",
   "id": "c1df6f08",
   "metadata": {},
   "source": [
    "### 5.1 Outlining the model <a id=\"5.1\"></a>"
   ]
  },
  {
   "cell_type": "code",
   "execution_count": 14,
   "id": "29891e93",
   "metadata": {},
   "outputs": [],
   "source": [
    "input_size = 784\n",
    "output_size = 10\n",
    "\n",
    "hidden_layer_size = 256\n",
    "\n",
    "final_model = tf.keras.Sequential([\n",
    "    tf.keras.layers.Flatten(input_shape=(28, 28, 1)), # input layer\n",
    "   \n",
    "    #tf.keras.layers.Dense(hidden_layer_size, activation='selu', kernel_initializer='lecun_normal'), \n",
    "    tf.keras.layers.Dense(hidden_layer_size, activation='sigmoid'),\n",
    "    tf.keras.layers.Dense(hidden_layer_size, activation='sigmoid'),\n",
    "    \n",
    "    tf.keras.layers.Dense(output_size, activation='softmax') # output layer\n",
    "])"
   ]
  },
  {
   "cell_type": "markdown",
   "id": "67ab716c",
   "metadata": {},
   "source": [
    "### 5.2. Choosing a customized optimizer and the loss function <a id=\"5.2\"></a>"
   ]
  },
  {
   "cell_type": "markdown",
   "id": "1347262b",
   "metadata": {},
   "source": [
    "#### Now using a customized optimizer with yet another hyper parameter: LEARNING_RATE"
   ]
  },
  {
   "cell_type": "code",
   "execution_count": 15,
   "id": "6d14a835",
   "metadata": {},
   "outputs": [],
   "source": [
    "#optimizer_adam_modded = tf.keras.optimizers.Adam(learning_rate=0.0005) #altered\n",
    "RMSprop_modded = tf.keras.optimizers.experimental.RMSprop(learning_rate=0.0001)"
   ]
  },
  {
   "cell_type": "code",
   "execution_count": 16,
   "id": "989da189",
   "metadata": {},
   "outputs": [],
   "source": [
    "final_model.compile(\n",
    "                    optimizer='RMSprop', \n",
    "                    loss='sparse_categorical_crossentropy', \n",
    "                    metrics=['accuracy']\n",
    ")"
   ]
  },
  {
   "cell_type": "markdown",
   "id": "ff0588b1",
   "metadata": {},
   "source": [
    "<div style=\"background: darkblue; border-radius: 45% 2.5%; display: flex; margin-left: 60%; \n",
    "            width: 40%; position: relative\">\n",
    "    <a href=\"#contents\" style=\"margin-left: 20%;\">\n",
    "        <div style=\"background: orange; border-radius: 35% 2.5%; \n",
    "                width: 100%; margin-top: 1rem; margin-bottom: 1rem; \n",
    "                padding-left: 5rem; padding-right: 5rem;\">\n",
    "            <p style=\"color: dark_blue; padding-top: 1rem;padding-bottom: 1rem; \n",
    "                  text-align: center; font-size: 1.75rem\"> <b>Back to Contents</b></p>\n",
    "        </div>\n",
    "    </a>\n",
    "    <div style=\" width: 12.5px; height: 12.5px; background: orange; border-radius: 50%; \n",
    "        position: absolute; bottom: 1.55rem;left: 1.55rem;\n",
    "                box-shadow: 0 0 0.7rem yellow\"></div> <!--le dots-->\n",
    "    <div style=\" width: 12.5px; height: 12.5px; background: orange; border-radius: 50%; \n",
    "        position: absolute; top: 1.55rem;right: 1.55rem;\n",
    "                box-shadow: 0 0 0.7rem yellow\"></div> <!--le dots-->\n",
    "    </div>\n",
    "   "
   ]
  },
  {
   "cell_type": "markdown",
   "id": "023d6479",
   "metadata": {},
   "source": [
    "### 5.3. Training and Visualizing training history <a id=\"5.3\"></a>"
   ]
  },
  {
   "cell_type": "code",
   "execution_count": 17,
   "id": "85694af8",
   "metadata": {
    "scrolled": false
   },
   "outputs": [
    {
     "name": "stdout",
     "output_type": "stream",
     "text": [
      "Epoch 1/50\n",
      "540/540 - 2s - loss: 0.5774 - accuracy: 0.8387 - val_loss: 0.2850 - val_accuracy: 0.9143 - 2s/epoch - 4ms/step\n",
      "Epoch 2/50\n",
      "540/540 - 2s - loss: 0.2484 - accuracy: 0.9263 - val_loss: 0.2093 - val_accuracy: 0.9388 - 2s/epoch - 3ms/step\n",
      "Epoch 3/50\n",
      "540/540 - 2s - loss: 0.1890 - accuracy: 0.9433 - val_loss: 0.1667 - val_accuracy: 0.9507 - 2s/epoch - 3ms/step\n",
      "Epoch 4/50\n",
      "540/540 - 2s - loss: 0.1516 - accuracy: 0.9549 - val_loss: 0.1379 - val_accuracy: 0.9603 - 2s/epoch - 3ms/step\n",
      "Epoch 5/50\n",
      "540/540 - 2s - loss: 0.1238 - accuracy: 0.9624 - val_loss: 0.1156 - val_accuracy: 0.9642 - 2s/epoch - 3ms/step\n",
      "Epoch 6/50\n",
      "540/540 - 2s - loss: 0.1037 - accuracy: 0.9688 - val_loss: 0.1054 - val_accuracy: 0.9665 - 2s/epoch - 3ms/step\n",
      "Epoch 7/50\n",
      "540/540 - 2s - loss: 0.0880 - accuracy: 0.9739 - val_loss: 0.0844 - val_accuracy: 0.9752 - 2s/epoch - 3ms/step\n",
      "Epoch 8/50\n",
      "540/540 - 2s - loss: 0.0746 - accuracy: 0.9769 - val_loss: 0.0789 - val_accuracy: 0.9770 - 2s/epoch - 3ms/step\n",
      "Epoch 9/50\n",
      "540/540 - 2s - loss: 0.0638 - accuracy: 0.9805 - val_loss: 0.0729 - val_accuracy: 0.9777 - 2s/epoch - 3ms/step\n",
      "Epoch 10/50\n",
      "540/540 - 2s - loss: 0.0563 - accuracy: 0.9829 - val_loss: 0.0626 - val_accuracy: 0.9823 - 2s/epoch - 3ms/step\n",
      "Epoch 11/50\n",
      "540/540 - 2s - loss: 0.0496 - accuracy: 0.9849 - val_loss: 0.0569 - val_accuracy: 0.9837 - 2s/epoch - 3ms/step\n",
      "Epoch 12/50\n",
      "540/540 - 2s - loss: 0.0432 - accuracy: 0.9868 - val_loss: 0.0506 - val_accuracy: 0.9848 - 2s/epoch - 3ms/step\n",
      "Epoch 13/50\n",
      "540/540 - 2s - loss: 0.0371 - accuracy: 0.9889 - val_loss: 0.0436 - val_accuracy: 0.9880 - 2s/epoch - 3ms/step\n",
      "Epoch 14/50\n",
      "540/540 - 2s - loss: 0.0327 - accuracy: 0.9904 - val_loss: 0.0385 - val_accuracy: 0.9895 - 2s/epoch - 3ms/step\n",
      "Epoch 15/50\n",
      "540/540 - 2s - loss: 0.0280 - accuracy: 0.9919 - val_loss: 0.0462 - val_accuracy: 0.9862 - 2s/epoch - 3ms/step\n",
      "Epoch 16/50\n",
      "540/540 - 2s - loss: 0.0255 - accuracy: 0.9929 - val_loss: 0.0370 - val_accuracy: 0.9892 - 2s/epoch - 3ms/step\n",
      "Epoch 17/50\n",
      "540/540 - 2s - loss: 0.0211 - accuracy: 0.9940 - val_loss: 0.0333 - val_accuracy: 0.9903 - 2s/epoch - 3ms/step\n",
      "Epoch 18/50\n",
      "540/540 - 2s - loss: 0.0185 - accuracy: 0.9949 - val_loss: 0.0291 - val_accuracy: 0.9920 - 2s/epoch - 3ms/step\n",
      "Epoch 19/50\n",
      "540/540 - 2s - loss: 0.0178 - accuracy: 0.9951 - val_loss: 0.0279 - val_accuracy: 0.9925 - 2s/epoch - 3ms/step\n",
      "Epoch 20/50\n",
      "540/540 - 2s - loss: 0.0142 - accuracy: 0.9961 - val_loss: 0.0387 - val_accuracy: 0.9878 - 2s/epoch - 3ms/step\n",
      "Epoch 21/50\n",
      "540/540 - 2s - loss: 0.0132 - accuracy: 0.9967 - val_loss: 0.0216 - val_accuracy: 0.9947 - 2s/epoch - 3ms/step\n",
      "Epoch 22/50\n",
      "540/540 - 2s - loss: 0.0107 - accuracy: 0.9972 - val_loss: 0.0225 - val_accuracy: 0.9938 - 2s/epoch - 3ms/step\n",
      "Epoch 23/50\n",
      "540/540 - 2s - loss: 0.0096 - accuracy: 0.9976 - val_loss: 0.0169 - val_accuracy: 0.9960 - 2s/epoch - 3ms/step\n",
      "Epoch 24/50\n",
      "540/540 - 2s - loss: 0.0090 - accuracy: 0.9978 - val_loss: 0.0169 - val_accuracy: 0.9965 - 2s/epoch - 3ms/step\n",
      "Epoch 25/50\n",
      "540/540 - 2s - loss: 0.0074 - accuracy: 0.9981 - val_loss: 0.0132 - val_accuracy: 0.9980 - 2s/epoch - 3ms/step\n",
      "Epoch 26/50\n",
      "540/540 - 2s - loss: 0.0067 - accuracy: 0.9984 - val_loss: 0.0130 - val_accuracy: 0.9975 - 2s/epoch - 3ms/step\n",
      "Epoch 27/50\n",
      "540/540 - 2s - loss: 0.0060 - accuracy: 0.9987 - val_loss: 0.0135 - val_accuracy: 0.9978 - 2s/epoch - 3ms/step\n",
      "Epoch 28/50\n",
      "540/540 - 2s - loss: 0.0048 - accuracy: 0.9989 - val_loss: 0.0105 - val_accuracy: 0.9987 - 2s/epoch - 3ms/step\n",
      "Epoch 29/50\n",
      "540/540 - 2s - loss: 0.0044 - accuracy: 0.9990 - val_loss: 0.0093 - val_accuracy: 0.9985 - 2s/epoch - 3ms/step\n",
      "Epoch 30/50\n",
      "540/540 - 2s - loss: 0.0034 - accuracy: 0.9994 - val_loss: 0.0079 - val_accuracy: 0.9983 - 2s/epoch - 3ms/step\n",
      "Epoch 31/50\n",
      "540/540 - 2s - loss: 0.0033 - accuracy: 0.9994 - val_loss: 0.0063 - val_accuracy: 0.9987 - 2s/epoch - 3ms/step\n",
      "Epoch 32/50\n",
      "540/540 - 2s - loss: 0.0022 - accuracy: 0.9996 - val_loss: 0.0055 - val_accuracy: 0.9988 - 2s/epoch - 3ms/step\n",
      "Epoch 33/50\n",
      "540/540 - 2s - loss: 0.0022 - accuracy: 0.9996 - val_loss: 0.0049 - val_accuracy: 0.9992 - 2s/epoch - 3ms/step\n",
      "Epoch 34/50\n",
      "540/540 - 2s - loss: 0.0017 - accuracy: 0.9998 - val_loss: 0.0040 - val_accuracy: 0.9995 - 2s/epoch - 3ms/step\n",
      "Epoch 35/50\n",
      "540/540 - 2s - loss: 0.0016 - accuracy: 0.9996 - val_loss: 0.0039 - val_accuracy: 0.9993 - 2s/epoch - 3ms/step\n",
      "Epoch 36/50\n",
      "540/540 - 2s - loss: 0.0011 - accuracy: 0.9999 - val_loss: 0.0042 - val_accuracy: 0.9993 - 2s/epoch - 3ms/step\n",
      "Epoch 37/50\n",
      "540/540 - 2s - loss: 0.0011 - accuracy: 0.9999 - val_loss: 0.0034 - val_accuracy: 0.9993 - 2s/epoch - 3ms/step\n",
      "Epoch 38/50\n",
      "540/540 - 2s - loss: 0.0011 - accuracy: 0.9999 - val_loss: 0.0029 - val_accuracy: 0.9995 - 2s/epoch - 3ms/step\n",
      "Epoch 39/50\n",
      "540/540 - 2s - loss: 7.1759e-04 - accuracy: 0.9999 - val_loss: 0.0027 - val_accuracy: 0.9993 - 2s/epoch - 3ms/step\n",
      "Epoch 40/50\n",
      "540/540 - 2s - loss: 5.1030e-04 - accuracy: 1.0000 - val_loss: 0.0028 - val_accuracy: 0.9992 - 2s/epoch - 3ms/step\n",
      "Epoch 41/50\n",
      "540/540 - 2s - loss: 6.8086e-04 - accuracy: 1.0000 - val_loss: 0.0021 - val_accuracy: 0.9995 - 2s/epoch - 3ms/step\n",
      "Epoch 42/50\n",
      "540/540 - 2s - loss: 5.5585e-04 - accuracy: 0.9999 - val_loss: 0.0023 - val_accuracy: 0.9995 - 2s/epoch - 3ms/step\n",
      "Epoch 43/50\n",
      "540/540 - 2s - loss: 6.8718e-04 - accuracy: 0.9999 - val_loss: 0.0012 - val_accuracy: 0.9997 - 2s/epoch - 4ms/step\n",
      "Epoch 44/50\n",
      "540/540 - 2s - loss: 4.5754e-04 - accuracy: 0.9999 - val_loss: 0.0011 - val_accuracy: 0.9997 - 2s/epoch - 3ms/step\n",
      "Epoch 45/50\n",
      "540/540 - 2s - loss: 4.0095e-04 - accuracy: 1.0000 - val_loss: 0.0012 - val_accuracy: 0.9998 - 2s/epoch - 3ms/step\n",
      "Epoch 46/50\n",
      "540/540 - 2s - loss: 2.9431e-04 - accuracy: 1.0000 - val_loss: 0.0010 - val_accuracy: 0.9998 - 2s/epoch - 3ms/step\n",
      "Epoch 47/50\n",
      "540/540 - 2s - loss: 2.5742e-04 - accuracy: 1.0000 - val_loss: 0.0011 - val_accuracy: 0.9998 - 2s/epoch - 3ms/step\n",
      "Epoch 48/50\n",
      "540/540 - 2s - loss: 2.2424e-04 - accuracy: 1.0000 - val_loss: 0.0011 - val_accuracy: 0.9998 - 2s/epoch - 3ms/step\n",
      "Epoch 49/50\n",
      "540/540 - 2s - loss: 3.3445e-04 - accuracy: 1.0000 - val_loss: 5.0565e-04 - val_accuracy: 1.0000 - 2s/epoch - 3ms/step\n",
      "Epoch 50/50\n",
      "540/540 - 2s - loss: 2.0837e-04 - accuracy: 1.0000 - val_loss: 5.9627e-04 - val_accuracy: 0.9998 - 2s/epoch - 3ms/step\n"
     ]
    }
   ],
   "source": [
    "# determine the maximum number of epochs\n",
    "NUM_EPOCHS = 50\n",
    "\n",
    "#to avoid overfitting\n",
    "early_stopping = tf.keras.callbacks.EarlyStopping(patience = 3)\n",
    "\n",
    "training_history = final_model.fit(\n",
    "                                    train_data,\n",
    "                                    epochs=NUM_EPOCHS,\n",
    "                                    callbacks = [early_stopping],\n",
    "                                    validation_data=(validation_inputs, validation_targets),\n",
    "                                    verbose =2\n",
    "                                  )"
   ]
  },
  {
   "cell_type": "code",
   "execution_count": 37,
   "id": "66729d66",
   "metadata": {
    "scrolled": true
   },
   "outputs": [
    {
     "data": {
      "image/png": "[encoded data removed]",
      "text/plain": [
       "<Figure size 2400x400 with 2 Axes>"
      ]
     },
     "metadata": {},
     "output_type": "display_data"
    }
   ],
   "source": [
    "hist = training_history.history['loss']\n",
    "n_epochs_last = np.argmin(hist)\n",
    "\n",
    "if n_epochs_last == 48:\n",
    "    n_epochs_range = n_epochs_last +3\n",
    "else:\n",
    "    n_epochs_range = n_epochs_last +2\n",
    "\n",
    "epoch_range = [e for e in range(1, n_epochs_range)]\n",
    "\n",
    "\n",
    "fig, axs = plt.subplots(nrows=1, ncols=2, figsize=(24, 4))\n",
    "\n",
    "axs[0].plot(epoch_range,\n",
    "            training_history.history['loss'],\n",
    "            label='Training Loss')\n",
    "axs[0].plot(epoch_range,\n",
    "            training_history.history['val_loss'],\n",
    "            label='Validation Loss')\n",
    "axs[0].legend()\n",
    "axs[0].set_title('Training loss')\n",
    "axs[0].set_xlabel(\"Number of Epochs\")\n",
    "axs[0].set_ylabel(\"Loss\")\n",
    "\n",
    "axs[1].plot(epoch_range,\n",
    "            training_history.history['accuracy'],\n",
    "            label='Training Accuracy')\n",
    "axs[1].plot(epoch_range,\n",
    "            training_history.history['val_accuracy'],\n",
    "            label='Validation Accuracy')\n",
    "axs[1].legend()\n",
    "axs[1].set_title('Training accuracy')\n",
    "axs[1].set_xlabel(\"Number of Epochs\")\n",
    "axs[1].set_ylabel(\"Accuracy\")\n",
    "\n",
    "plt.show()"
   ]
  },
  {
   "cell_type": "markdown",
   "id": "3e402503",
   "metadata": {},
   "source": [
    "<div style=\"background: darkblue; border-radius: 45% 2.5%; display: flex; margin-left: 60%; \n",
    "            width: 40%; position: relative\">\n",
    "    <a href=\"#contents\" style=\"margin-left: 20%;\">\n",
    "        <div style=\"background: orange; border-radius: 35% 2.5%; \n",
    "                width: 100%; margin-top: 1rem; margin-bottom: 1rem; \n",
    "                padding-left: 5rem; padding-right: 5rem;\">\n",
    "            <p style=\"color: dark_blue; padding-top: 1rem;padding-bottom: 1rem; \n",
    "                  text-align: center; font-size: 1.75rem\"> <b>Back to Contents</b></p>\n",
    "        </div>\n",
    "    </a>\n",
    "    <div style=\" width: 12.5px; height: 12.5px; background: orange; border-radius: 50%; \n",
    "        position: absolute; bottom: 1.55rem;left: 1.55rem;\n",
    "                box-shadow: 0 0 0.7rem yellow\"></div> <!--le dots-->\n",
    "    <div style=\" width: 12.5px; height: 12.5px; background: orange; border-radius: 50%; \n",
    "        position: absolute; top: 1.55rem;right: 1.55rem;\n",
    "                box-shadow: 0 0 0.7rem yellow\"></div> <!--le dots-->\n",
    "    </div>\n",
    "   "
   ]
  },
  {
   "cell_type": "markdown",
   "id": "83fe007a",
   "metadata": {},
   "source": [
    "## 5.4. Testing the final_model <a id=\"5.4\"></a>"
   ]
  },
  {
   "cell_type": "code",
   "execution_count": 19,
   "id": "09885ab5",
   "metadata": {},
   "outputs": [
    {
     "name": "stdout",
     "output_type": "stream",
     "text": [
      "1/1 [==============================] - 0s 120ms/step - loss: 0.0873 - accuracy: 0.9819\n"
     ]
    }
   ],
   "source": [
    "test_loss, test_accuracy = final_model.evaluate(test_data)"
   ]
  },
  {
   "cell_type": "code",
   "execution_count": 20,
   "id": "508d02ec",
   "metadata": {
    "scrolled": false
   },
   "outputs": [
    {
     "name": "stdout",
     "output_type": "stream",
     "text": [
      "Test loss: 0.09. Test accuracy: 98.19%\n"
     ]
    }
   ],
   "source": [
    "print('Test loss: {0:.2f}. Test accuracy: {1:.2f}%'.format(test_loss, test_accuracy*100.))"
   ]
  },
  {
   "cell_type": "markdown",
   "id": "0faa9abb",
   "metadata": {},
   "source": [
    "#### Each time the code is rerun, one would get a bit different accuracy; <br><u>as the batches are shuffled, the weights are initialized in a different way..."
   ]
  },
  {
   "cell_type": "markdown",
   "id": "0b4227f0",
   "metadata": {},
   "source": [
    "<div style=\"background: darkblue; border-radius: 45% 2.5%; display: flex; margin-left: 60%; \n",
    "            width: 40%; position: relative\">\n",
    "    <a href=\"#contents\" style=\"margin-left: 20%;\">\n",
    "        <div style=\"background: orange; border-radius: 35% 2.5%; \n",
    "                width: 100%; margin-top: 1rem; margin-bottom: 1rem; \n",
    "                padding-left: 5rem; padding-right: 5rem;\">\n",
    "            <p style=\"color: dark_blue; padding-top: 1rem;padding-bottom: 1rem; \n",
    "                  text-align: center; font-size: 1.75rem\"> <b>Back to Contents</b></p>\n",
    "        </div>\n",
    "    </a>\n",
    "    <div style=\" width: 12.5px; height: 12.5px; background: orange; border-radius: 50%; \n",
    "        position: absolute; bottom: 1.55rem;left: 1.55rem;\n",
    "                box-shadow: 0 0 0.7rem yellow\"></div> <!--le dots-->\n",
    "    <div style=\" width: 12.5px; height: 12.5px; background: orange; border-radius: 50%; \n",
    "        position: absolute; top: 1.55rem;right: 1.55rem;\n",
    "                box-shadow: 0 0 0.7rem yellow\"></div> <!--le dots-->\n",
    "    </div>\n",
    "   "
   ]
  },
  {
   "cell_type": "markdown",
   "id": "10b4fabf",
   "metadata": {},
   "source": [
    "### 6. Visualizing and Predicting on test_data <a id=\"6\"></a>"
   ]
  },
  {
   "cell_type": "code",
   "execution_count": 30,
   "id": "054b5fa8",
   "metadata": {},
   "outputs": [
    {
     "data": {
      "image/png": "[encoded data removed]",
      "text/plain": [
       "<Figure size 600x300 with 2 Axes>"
      ]
     },
     "metadata": {},
     "output_type": "display_data"
    }
   ],
   "source": [
    "test_iterator = iter(test_data)\n",
    "image_batch, label_batch = next(test_iterator)  # Get the next batch\n",
    "\n",
    "# num_test_samples\n",
    "# [Pick an] image (play with numbers between 0 and 9999) and and corresponding label from the batch\n",
    "image_1 = image_batch[0] \n",
    "label_1 = label_batch[0]\n",
    "\n",
    "image_2 = image_batch[8675]\n",
    "label_2 = label_batch[8675]\n",
    "\n",
    "# Reshape the image for visualization (removing the channel dimension)\n",
    "image_1_for_display = np.squeeze(image_1.numpy())\n",
    "image_2_for_display = np.squeeze(image_2.numpy())\n",
    "\n",
    "# Display the image\n",
    "fig, axes = plt.subplots(1, 2, figsize=(6, 3))\n",
    "ax1, ax2 = axes\n",
    "ax1.imshow(image_1_for_display, cmap='gray')\n",
    "ax1.set_title(f\"Image 1 \\n True Label: {label_1}\")\n",
    "\n",
    "ax2.imshow(image_2_for_display, cmap='gray')\n",
    "ax2.set_title(f\"Image 2 \\n True Label: {label_2}\")\n",
    "\n",
    "plt.tight_layout()\n",
    "plt.show()"
   ]
  },
  {
   "cell_type": "code",
   "execution_count": 31,
   "id": "8fdd25dd",
   "metadata": {
    "scrolled": true
   },
   "outputs": [
    {
     "name": "stdout",
     "output_type": "stream",
     "text": [
      "1/1 [==============================] - 0s 14ms/step\n",
      "1/1 [==============================] - 0s 14ms/step\n",
      "\n",
      " Prediction for Image 1: ----> 2\n",
      "\n",
      " Prediction for Image 2: ----> 4\n"
     ]
    }
   ],
   "source": [
    "#prob array with 10 elements \n",
    "predicted_probs_1 = final_model.predict(np.expand_dims(image_1, axis=0)) \n",
    "#get the one with the highest\n",
    "predicted_label_1 = np.argmax(predicted_probs_1)\n",
    "\n",
    "predicted_probs_2 = final_model.predict(np.expand_dims(image_2, axis=0))\n",
    "predicted_label_2 = np.argmax(predicted_probs_2)\n",
    "\n",
    "print(\"\\n Prediction for Image 1: ---->\", predicted_label_1)\n",
    "print(\"\\n Prediction for Image 2: ---->\", predicted_label_2)"
   ]
  },
  {
   "cell_type": "markdown",
   "id": "6bcaf6c8",
   "metadata": {},
   "source": [
    "<div style=\"background: darkblue; border-radius: 45% 2.5%; display: flex; margin-left: 60%; \n",
    "            width: 40%; position: relative\">\n",
    "    <a href=\"#contents\" style=\"margin-left: 20%;\">\n",
    "        <div style=\"background: orange; border-radius: 35% 2.5%; \n",
    "                width: 100%; margin-top: 1rem; margin-bottom: 1rem; \n",
    "                padding-left: 5rem; padding-right: 5rem;\">\n",
    "            <p style=\"color: dark_blue; padding-top: 1rem;padding-bottom: 1rem; \n",
    "                  text-align: center; font-size: 1.75rem\"> <b>Back to Contents</b></p>\n",
    "        </div>\n",
    "    </a>\n",
    "    <div style=\" width: 12.5px; height: 12.5px; background: orange; border-radius: 50%; \n",
    "        position: absolute; bottom: 1.55rem;left: 1.55rem;\n",
    "                box-shadow: 0 0 0.7rem yellow\"></div> <!--le dots-->\n",
    "    <div style=\" width: 12.5px; height: 12.5px; background: orange; border-radius: 50%; \n",
    "        position: absolute; top: 1.55rem;right: 1.55rem;\n",
    "                box-shadow: 0 0 0.7rem yellow\"></div> <!--le dots-->\n",
    "    </div>\n",
    "   "
   ]
  }
 ],
 "metadata": {
  "kernelspec": {
   "display_name": "Python [conda env:py3-TF2.0]",
   "language": "python",
   "name": "conda-env-py3-TF2.0-py"
  },
  "language_info": {
   "codemirror_mode": {
    "name": "ipython",
    "version": 3
   },
   "file_extension": ".py",
   "mimetype": "text/x-python",
   "name": "python",
   "nbconvert_exporter": "python",
   "pygments_lexer": "ipython3",
   "version": "3.10.9"
  }
 },
 "nbformat": 4,
 "nbformat_minor": 5
}
